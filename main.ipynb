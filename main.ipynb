{
 "cells": [
  {
   "cell_type": "code",
   "execution_count": null,
   "metadata": {},
   "outputs": [],
   "source": [
    "from src import src,misc\n",
    "import numpy as np\n",
    "import matplotlib.pyplot as plt\n",
    "pltr = misc.Plotter()"
   ]
  },
  {
   "cell_type": "markdown",
   "metadata": {},
   "source": [
    "Load the observation matrix"
   ]
  },
  {
   "cell_type": "code",
   "execution_count": null,
   "metadata": {},
   "outputs": [],
   "source": [
    "A = np.load('models/simulated/A15.npy') # Observation model matrix for 15 frequencies (cross array)\n",
    "# Observation model matrix is of shape (k,t,r,x,y,z) \n",
    "# where:\n",
    "# k = number of frequncy steps (i.e.: 15 for the saved matrix), \n",
    "# t = number of transmitter antennas (i.e.: 12 for the saved matrix), \n",
    "# r = number of receiver antennas (i.e.: 13 for the saved matrix),\n",
    "# x,y,z = number of voxels at x,y,z dimensions (i.e.: 25,25,49)\n",
    "print(A.shape)"
   ]
  },
  {
   "cell_type": "markdown",
   "metadata": {},
   "source": [
    "Load the test data"
   ]
  },
  {
   "cell_type": "code",
   "execution_count": null,
   "metadata": {},
   "outputs": [],
   "source": [
    "x=np.load('data/x_test.npy') # Complex-valued (random phase)"
   ]
  },
  {
   "cell_type": "markdown",
   "metadata": {},
   "source": [
    "Simulate Measurements"
   ]
  },
  {
   "cell_type": "code",
   "execution_count": null,
   "metadata": {},
   "outputs": [],
   "source": [
    "Ax = np.einsum('ktrxyz,Nxyz->Nktr',A,x) # Ax\n",
    "\n",
    "np.random.seed(0)\n",
    "y = misc.addNoise(signal=Ax,SNRdB=30) # y = Ax + n"
   ]
  },
  {
   "cell_type": "markdown",
   "metadata": {},
   "source": [
    "Validate SNR"
   ]
  },
  {
   "cell_type": "code",
   "execution_count": null,
   "metadata": {},
   "outputs": [],
   "source": [
    "print(np.mean([misc.computeSNRdB(signal=Ax[i,...],noise=y[i,...]-Ax[i,...]) for i in range(y.shape[0])]))"
   ]
  },
  {
   "cell_type": "markdown",
   "metadata": {},
   "source": [
    "Load the reconstructor"
   ]
  },
  {
   "cell_type": "code",
   "execution_count": null,
   "metadata": {},
   "outputs": [],
   "source": [
    "DNN=src.get_UNet3D()\n",
    "DNN.load_weights('models/simulated/Deep2S/Unet3D/model_Nf15_SNR30.h5')\n",
    "reconstructor = src.Deep2S(DNN=DNN,A=A)"
   ]
  },
  {
   "cell_type": "markdown",
   "metadata": {},
   "source": [
    "Predict"
   ]
  },
  {
   "cell_type": "code",
   "execution_count": null,
   "metadata": {},
   "outputs": [],
   "source": [
    "estimates = reconstructor.predict(y)"
   ]
  },
  {
   "cell_type": "markdown",
   "metadata": {},
   "source": [
    "Compute Performance"
   ]
  },
  {
   "cell_type": "code",
   "execution_count": null,
   "metadata": {},
   "outputs": [],
   "source": [
    "psnrs = misc.computePSNR(estimates,np.abs(x))\n",
    "ssims = misc.computeSSIM(estimates.astype(float),np.abs(x).astype(float))\n",
    "\n",
    "print('Average PSNR : {:.1f} dB, PSNR on the Sample Image: {:.2f} dB'.format(np.mean(psnrs),psnrs[4]))\n",
    "print('Average SSIM : {:.2f}, SSIM on the Sample Image: {:.2f}'.format(np.mean(ssims),ssims[4]))"
   ]
  },
  {
   "cell_type": "markdown",
   "metadata": {},
   "source": [
    "Plot the datacubes in 3D"
   ]
  },
  {
   "cell_type": "code",
   "execution_count": null,
   "metadata": {},
   "outputs": [],
   "source": [
    "pltr.sceneshow(x=estimates[4,...],perspective='simulated').show()"
   ]
  },
  {
   "cell_type": "markdown",
   "metadata": {},
   "source": [
    "Plot the datacubes in 2D"
   ]
  },
  {
   "cell_type": "code",
   "execution_count": null,
   "metadata": {},
   "outputs": [],
   "source": [
    "plt.figure(figsize=(5,10))\n",
    "pltr.maxProjection(x=estimates[4,...])"
   ]
  }
 ],
 "metadata": {
  "kernelspec": {
   "display_name": "irfan-reviews",
   "language": "python",
   "name": "python3"
  },
  "language_info": {
   "codemirror_mode": {
    "name": "ipython",
    "version": 3
   },
   "file_extension": ".py",
   "mimetype": "text/x-python",
   "name": "python",
   "nbconvert_exporter": "python",
   "pygments_lexer": "ipython3",
   "version": "3.10.12"
  },
  "orig_nbformat": 4
 },
 "nbformat": 4,
 "nbformat_minor": 2
}
